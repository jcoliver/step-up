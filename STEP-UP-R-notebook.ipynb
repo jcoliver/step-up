{
 "cells": [
  {
   "cell_type": "markdown",
   "id": "finite-massage",
   "metadata": {},
   "source": [
    "# Notebook for Introduction to R\n",
    "This notebook allows you to write R code to follow along with the lesson at [https://jcoliver.github.io/step-up/step-up-lesson.html](https://jcoliver.github.io/step-up/step-up-lesson.html).\n",
    "Use the code block below to type R commands. After writing and running a command, create a new code block from the Insert menu above."
   ]
  },
  {
   "cell_type": "code",
   "execution_count": null,
   "id": "black-invite",
   "metadata": {},
   "outputs": [],
   "source": [
    "# Type your R code in this block"
   ]
  }
 ],
 "metadata": {
  "kernelspec": {
   "display_name": "R",
   "language": "R",
   "name": "ir"
  },
  "language_info": {
   "codemirror_mode": "r",
   "file_extension": ".r",
   "mimetype": "text/x-r-source",
   "name": "R",
   "pygments_lexer": "r",
   "version": "4.1.0"
  }
 },
 "nbformat": 4,
 "nbformat_minor": 5
}
